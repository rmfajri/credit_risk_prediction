{
 "cells": [
  {
   "cell_type": "markdown",
   "metadata": {},
   "source": [
    "#### German credit risk prediction <br>\n",
    "In This dataset, each entry represents a person who takes a credit by a bank <br>\n",
    "Each person is classified as good or bad credit risks according to the set of attributes<br>"
   ]
  },
  {
   "cell_type": "markdown",
   "metadata": {},
   "source": [
    "#### We select several of the attributes that suitable for the prediction<br>\n",
    "<ul>\n",
    "    <li>Age (numeric)</li>\n",
    "    <li>Sex (text:male,female)</li>\n",
    "    <li>Job(numeric:0-unskilled and non resident,1-unskilled and resident,2-skilled,\n",
    "        3-highly skilled)</li>\n",
    "    <li>Housing(text:own,rent or free)</li>\n",
    "    <li>Saving accounts(text-no saving,little,moderate,quite rich,rich)</li>\n",
    "    <li>Checking account(text,no checking,little,moderate,quite rich,rich)</li>\n",
    "    <li>Credit ammount(numeric, in DM)</li>\n",
    "    <li>Duration(numeric, in month)</li>\n",
    "    <li>Purpose(text:car,furniture/equipment,radio/TV,domestic appliances, repairs,\n",
    "        education,business,vacation/others)</li>\n",
    "    <li>Risk(Value target-Good or Bad Risk)</li>\n",
    "</ul>"
   ]
  },
  {
   "cell_type": "code",
   "execution_count": 1,
   "metadata": {},
   "outputs": [],
   "source": [
    "import pandas as pd\n",
    "import numpy as np\n",
    "import seaborn as sns\n",
    "import matplotlib.pyplot as plt\n",
    "from sklearn.model_selection import train_test_split,KFold,cross_val_score,GridSearchCV\n",
    "from sklearn.metrics import mean_squared_error,r2_score,accuracy_score,confusion_matrix,\\\n",
    "classification_report,fbeta_score\n",
    "\n",
    "#model algorithm\n",
    "from sklearn.ensemble import RandomForestClassifier\n",
    "from sklearn.linear_model import LogisticRegression,LinearRegression,Ridge,Lasso,ElasticNet\n",
    "from sklearn.tree import DecisionTreeClassifier\n",
    "from sklearn.neighbors import KNeighborsClassifier\n",
    "from sklearn.discriminant_analysis import LinearDiscriminantAnalysis\n",
    "from sklearn.naive_bayes import GaussianNB\n",
    "from sklearn.svm import SVC\n",
    "from xgboost import XGBClassifier\n",
    "from lightgbm import LGBMClassifier"
   ]
  },
  {
   "cell_type": "markdown",
   "metadata": {},
   "source": [
    "#### Data Preparation"
   ]
  },
  {
   "cell_type": "code",
   "execution_count": 2,
   "metadata": {},
   "outputs": [
    {
     "data": {
      "text/html": [
       "<div>\n",
       "<style scoped>\n",
       "    .dataframe tbody tr th:only-of-type {\n",
       "        vertical-align: middle;\n",
       "    }\n",
       "\n",
       "    .dataframe tbody tr th {\n",
       "        vertical-align: top;\n",
       "    }\n",
       "\n",
       "    .dataframe thead th {\n",
       "        text-align: right;\n",
       "    }\n",
       "</style>\n",
       "<table border=\"1\" class=\"dataframe\">\n",
       "  <thead>\n",
       "    <tr style=\"text-align: right;\">\n",
       "      <th></th>\n",
       "      <th>Age</th>\n",
       "      <th>Sex</th>\n",
       "      <th>Job</th>\n",
       "      <th>Housing</th>\n",
       "      <th>Saving accounts</th>\n",
       "      <th>Checking account</th>\n",
       "      <th>Credit amount</th>\n",
       "      <th>Duration</th>\n",
       "      <th>Purpose</th>\n",
       "      <th>Risk</th>\n",
       "    </tr>\n",
       "  </thead>\n",
       "  <tbody>\n",
       "    <tr>\n",
       "      <th>0</th>\n",
       "      <td>67</td>\n",
       "      <td>male</td>\n",
       "      <td>Skilled</td>\n",
       "      <td>own</td>\n",
       "      <td>no saving</td>\n",
       "      <td>little</td>\n",
       "      <td>1169</td>\n",
       "      <td>6</td>\n",
       "      <td>radio/television</td>\n",
       "      <td>Good Risk</td>\n",
       "    </tr>\n",
       "    <tr>\n",
       "      <th>1</th>\n",
       "      <td>22</td>\n",
       "      <td>female</td>\n",
       "      <td>Skilled</td>\n",
       "      <td>own</td>\n",
       "      <td>little</td>\n",
       "      <td>moderate</td>\n",
       "      <td>5951</td>\n",
       "      <td>48</td>\n",
       "      <td>radio/television</td>\n",
       "      <td>Bad Risk</td>\n",
       "    </tr>\n",
       "    <tr>\n",
       "      <th>2</th>\n",
       "      <td>49</td>\n",
       "      <td>male</td>\n",
       "      <td>unskilled - resident</td>\n",
       "      <td>own</td>\n",
       "      <td>little</td>\n",
       "      <td>no checking</td>\n",
       "      <td>2096</td>\n",
       "      <td>12</td>\n",
       "      <td>education</td>\n",
       "      <td>Good Risk</td>\n",
       "    </tr>\n",
       "    <tr>\n",
       "      <th>3</th>\n",
       "      <td>45</td>\n",
       "      <td>male</td>\n",
       "      <td>Skilled</td>\n",
       "      <td>free</td>\n",
       "      <td>little</td>\n",
       "      <td>little</td>\n",
       "      <td>7882</td>\n",
       "      <td>42</td>\n",
       "      <td>furniture/equipment</td>\n",
       "      <td>Good Risk</td>\n",
       "    </tr>\n",
       "    <tr>\n",
       "      <th>4</th>\n",
       "      <td>53</td>\n",
       "      <td>male</td>\n",
       "      <td>Skilled</td>\n",
       "      <td>free</td>\n",
       "      <td>little</td>\n",
       "      <td>little</td>\n",
       "      <td>4870</td>\n",
       "      <td>24</td>\n",
       "      <td>car (new)</td>\n",
       "      <td>Bad Risk</td>\n",
       "    </tr>\n",
       "  </tbody>\n",
       "</table>\n",
       "</div>"
      ],
      "text/plain": [
       "   Age     Sex                   Job Housing Saving accounts Checking account  \\\n",
       "0   67    male               Skilled     own       no saving           little   \n",
       "1   22  female               Skilled     own          little         moderate   \n",
       "2   49    male  unskilled - resident     own          little      no checking   \n",
       "3   45    male               Skilled    free          little           little   \n",
       "4   53    male               Skilled    free          little           little   \n",
       "\n",
       "   Credit amount  Duration              Purpose       Risk  \n",
       "0           1169         6     radio/television  Good Risk  \n",
       "1           5951        48     radio/television   Bad Risk  \n",
       "2           2096        12            education  Good Risk  \n",
       "3           7882        42  furniture/equipment  Good Risk  \n",
       "4           4870        24            car (new)   Bad Risk  "
      ]
     },
     "execution_count": 2,
     "metadata": {},
     "output_type": "execute_result"
    }
   ],
   "source": [
    "df=pd.read_csv(\"dataset/german_data.csv\")\n",
    "#display the dataset\n",
    "df.head()"
   ]
  },
  {
   "cell_type": "markdown",
   "metadata": {},
   "source": [
    "Check for NaN values"
   ]
  },
  {
   "cell_type": "code",
   "execution_count": 3,
   "metadata": {},
   "outputs": [
    {
     "data": {
      "text/plain": [
       "Age                 0\n",
       "Sex                 0\n",
       "Job                 0\n",
       "Housing             0\n",
       "Saving accounts     0\n",
       "Checking account    0\n",
       "Credit amount       0\n",
       "Duration            0\n",
       "Purpose             0\n",
       "Risk                0\n",
       "dtype: int64"
      ]
     },
     "execution_count": 3,
     "metadata": {},
     "output_type": "execute_result"
    }
   ],
   "source": [
    "df.isnull().sum()\n",
    "#the result shows that we dont have null values, which is good start"
   ]
  },
  {
   "cell_type": "markdown",
   "metadata": {},
   "source": [
    "We create dummies variables, essentially if we just change each value of columns. For example if we encode own as 0, rent as 1 and free as 2, there is no information about the value furthermore 1 is higher than 0, but here it does not mean that"
   ]
  },
  {
   "cell_type": "code",
   "execution_count": 4,
   "metadata": {},
   "outputs": [],
   "source": [
    "#Purpose to Dummies Variable\n",
    "df = df.merge(pd.get_dummies(df.Purpose, drop_first=True, prefix='Purpose'), left_index=True, right_index=True)\n",
    "\n",
    "df = df.merge(pd.get_dummies(df.Sex, drop_first=True, prefix='Sex'), left_index=True, right_index=True)\n",
    "\n",
    "df = df.merge(pd.get_dummies(df.Housing, drop_first=True, prefix='Housing'), left_index=True, right_index=True)\n",
    "\n",
    "df = df.merge(pd.get_dummies(df[\"Saving accounts\"], drop_first=True, prefix='Savings'), left_index=True, right_index=True)\n",
    "\n",
    "df = df.merge(pd.get_dummies(df[\"Checking account\"], drop_first=True, prefix='Check'), left_index=True, right_index=True)\n",
    "\n",
    "df = df.merge(pd.get_dummies(df[\"Job\"], drop_first=True, prefix='Job'), left_index=True, right_index=True)\n"
   ]
  },
  {
   "cell_type": "markdown",
   "metadata": {},
   "source": [
    "We drop the categorical values since we already replace that we dummies variables"
   ]
  },
  {
   "cell_type": "code",
   "execution_count": 6,
   "metadata": {},
   "outputs": [],
   "source": [
    "df.drop(['Sex','Job','Housing','Saving accounts','Checking account','Purpose'],axis=1,inplace=True)"
   ]
  },
  {
   "cell_type": "markdown",
   "metadata": {},
   "source": [
    "We encode the risk as numeric Good Risk as 0 and Bad Risk as 1"
   ]
  },
  {
   "cell_type": "code",
   "execution_count": 9,
   "metadata": {},
   "outputs": [
    {
     "data": {
      "text/plain": [
       "array(['Good Risk', 'Bad Risk'], dtype=object)"
      ]
     },
     "execution_count": 9,
     "metadata": {},
     "output_type": "execute_result"
    }
   ],
   "source": [
    "df['Risk'].unique()"
   ]
  },
  {
   "cell_type": "code",
   "execution_count": 11,
   "metadata": {},
   "outputs": [],
   "source": [
    "Risk={\"Good Risk\":0, \n",
    "     \"Bad Risk\":1}\n",
    "df[\"Risk\"]=df[\"Risk\"].map(Risk)"
   ]
  },
  {
   "cell_type": "markdown",
   "metadata": {},
   "source": [
    "We Plot the histogram of Risk as the target variables / class label"
   ]
  },
  {
   "cell_type": "code",
   "execution_count": 13,
   "metadata": {},
   "outputs": [
    {
     "data": {
      "text/plain": [
       "array([[<AxesSubplot:title={'center':'Risk'}>]], dtype=object)"
      ]
     },
     "execution_count": 13,
     "metadata": {},
     "output_type": "execute_result"
    },
    {
     "data": {
      "image/png": "[encoded data removed]",
      "text/plain": [
       "<Figure size 432x288 with 1 Axes>"
      ]
     },
     "metadata": {
      "needs_background": "light"
     },
     "output_type": "display_data"
    }
   ],
   "source": [
    "df.hist(column='Risk')"
   ]
  },
  {
   "cell_type": "markdown",
   "metadata": {},
   "source": [
    "It seems that the class is imbalanced, we need to see how good our model in addressing this phenomena"
   ]
  },
  {
   "cell_type": "code",
   "execution_count": 17,
   "metadata": {},
   "outputs": [],
   "source": [
    "#Creating the X and y variables\n",
    "X = df.drop(['Risk'],axis=1)\n",
    "y = df[\"Risk\"]\n",
    "seed=7\n",
    "# Spliting X and y into train and test version\n",
    "X_train, X_test, y_train, y_test = train_test_split(X, y, test_size = 0.25, random_state=42)"
   ]
  },
  {
   "cell_type": "markdown",
   "metadata": {},
   "source": [
    "#### Machine Learning Model"
   ]
  },
  {
   "cell_type": "code",
   "execution_count": 20,
   "metadata": {},
   "outputs": [],
   "source": [
    "#We trained Logistic regression, Naive bayes, SVM, KNN and Random Forest\n",
    "LR=LogisticRegression(penalty='l2',solver='liblinear')\n",
    "NB=GaussianNB()\n",
    "RF=RandomForestClassifier()\n",
    "KNN=KNeighborsClassifier()\n"
   ]
  },
  {
   "cell_type": "code",
   "execution_count": 21,
   "metadata": {},
   "outputs": [],
   "source": [
    "from sklearn.metrics import roc_curve"
   ]
  },
  {
   "cell_type": "code",
   "execution_count": 22,
   "metadata": {},
   "outputs": [
    {
     "name": "stdout",
     "output_type": "stream",
     "text": [
      "Test predict accuracy score:  0.736 \n",
      "\n",
      "Confussion Matrix: \n",
      " [[157  21]\n",
      " [ 45  27]] \n",
      "\n",
      "Classification report according to Test prediction: \n",
      "               precision    recall  f1-score   support\n",
      "\n",
      "           0       0.78      0.88      0.83       178\n",
      "           1       0.56      0.38      0.45        72\n",
      "\n",
      "    accuracy                           0.74       250\n",
      "   macro avg       0.67      0.63      0.64       250\n",
      "weighted avg       0.72      0.74      0.72       250\n",
      "\n"
     ]
    }
   ],
   "source": [
    "model=LR.fit(X_train,y_train)\n",
    "y_pred=model.predict(X_test)\n",
    "\n",
    "print(\"Test predict accuracy score: \", accuracy_score(y_test,y_pred),\"\\n\")\n",
    "\n",
    "print(\"Confussion Matrix: \\n\", confusion_matrix(y_test, y_pred),\"\\n\")\n",
    "\n",
    "print(\"Classification report according to Test prediction: \\n\", classification_report(y_test, y_pred))"
   ]
  },
  {
   "cell_type": "code",
   "execution_count": 23,
   "metadata": {},
   "outputs": [
    {
     "name": "stdout",
     "output_type": "stream",
     "text": [
      "Test predict accuracy score:  0.688 \n",
      "\n",
      "Confussion Matrix: \n",
      " [[132  46]\n",
      " [ 32  40]] \n",
      "\n",
      "Classification report according to Test prediction: \n",
      "               precision    recall  f1-score   support\n",
      "\n",
      "           0       0.80      0.74      0.77       178\n",
      "           1       0.47      0.56      0.51        72\n",
      "\n",
      "    accuracy                           0.69       250\n",
      "   macro avg       0.63      0.65      0.64       250\n",
      "weighted avg       0.71      0.69      0.70       250\n",
      "\n"
     ]
    }
   ],
   "source": [
    "model=NB.fit(X_train,y_train)\n",
    "y_pred=model.predict(X_test)\n",
    "\n",
    "print(\"Test predict accuracy score: \", accuracy_score(y_test,y_pred),\"\\n\")\n",
    "\n",
    "print(\"Confussion Matrix: \\n\", confusion_matrix(y_test, y_pred),\"\\n\")\n",
    "\n",
    "print(\"Classification report according to Test prediction: \\n\", classification_report(y_test, y_pred))"
   ]
  },
  {
   "cell_type": "code",
   "execution_count": 24,
   "metadata": {},
   "outputs": [
    {
     "name": "stdout",
     "output_type": "stream",
     "text": [
      "Test predict accuracy score:  0.768 \n",
      "\n",
      "Confussion Matrix: \n",
      " [[164  14]\n",
      " [ 44  28]] \n",
      "\n",
      "Classification report according to Test prediction: \n",
      "               precision    recall  f1-score   support\n",
      "\n",
      "           0       0.79      0.92      0.85       178\n",
      "           1       0.67      0.39      0.49        72\n",
      "\n",
      "    accuracy                           0.77       250\n",
      "   macro avg       0.73      0.66      0.67       250\n",
      "weighted avg       0.75      0.77      0.75       250\n",
      "\n"
     ]
    }
   ],
   "source": [
    "model=RF.fit(X_train,y_train)\n",
    "y_pred=model.predict(X_test)\n",
    "\n",
    "print(\"Test predict accuracy score: \", accuracy_score(y_test,y_pred),\"\\n\")\n",
    "\n",
    "print(\"Confussion Matrix: \\n\", confusion_matrix(y_test, y_pred),\"\\n\")\n",
    "\n",
    "print(\"Classification report according to Test prediction: \\n\", classification_report(y_test, y_pred))"
   ]
  },
  {
   "cell_type": "code",
   "execution_count": 25,
   "metadata": {},
   "outputs": [
    {
     "name": "stdout",
     "output_type": "stream",
     "text": [
      "Test predict accuracy score:  0.664 \n",
      "\n",
      "Confussion Matrix: \n",
      " [[151  27]\n",
      " [ 57  15]] \n",
      "\n",
      "Classification report according to Test prediction: \n",
      "               precision    recall  f1-score   support\n",
      "\n",
      "           0       0.73      0.85      0.78       178\n",
      "           1       0.36      0.21      0.26        72\n",
      "\n",
      "    accuracy                           0.66       250\n",
      "   macro avg       0.54      0.53      0.52       250\n",
      "weighted avg       0.62      0.66      0.63       250\n",
      "\n"
     ]
    }
   ],
   "source": [
    "model=KNN.fit(X_train,y_train)\n",
    "y_pred=model.predict(X_test)\n",
    "\n",
    "print(\"Test predict accuracy score: \", accuracy_score(y_test,y_pred),\"\\n\")\n",
    "\n",
    "print(\"Confussion Matrix: \\n\", confusion_matrix(y_test, y_pred),\"\\n\")\n",
    "\n",
    "print(\"Classification report according to Test prediction: \\n\", classification_report(y_test, y_pred))"
   ]
  },
  {
   "cell_type": "code",
   "execution_count": 27,
   "metadata": {},
   "outputs": [
    {
     "data": {
      "image/png": "[encoded data removed]",
      "text/plain": [
       "<Figure size 432x288 with 1 Axes>"
      ]
     },
     "metadata": {
      "needs_background": "light"
     },
     "output_type": "display_data"
    }
   ],
   "source": [
    "#we can also plot the ROC curve based on each model\n",
    "#Predicting proba\n",
    "y_pred_prob = NB.predict_proba(X_test)[:,1]\n",
    "\n",
    "# Generate ROC curve values: fpr, tpr, thresholds\n",
    "fpr, tpr, thresholds = roc_curve(y_test, y_pred_prob)\n",
    "\n",
    "# Plot ROC curve\n",
    "plt.plot([0, 1], [0, 1], 'k--')\n",
    "plt.plot(fpr, tpr)\n",
    "plt.xlabel('False Positive Rate', color=\"r\")\n",
    "plt.ylabel('True Positive Rate', color=\"g\")\n",
    "plt.title('ROC Curve of Naive Bayes')\n",
    "plt.show()"
   ]
  },
  {
   "cell_type": "code",
   "execution_count": 28,
   "metadata": {},
   "outputs": [
    {
     "data": {
      "image/png": "[encoded data removed]",
      "text/plain": [
       "<Figure size 432x288 with 1 Axes>"
      ]
     },
     "metadata": {
      "needs_background": "light"
     },
     "output_type": "display_data"
    }
   ],
   "source": [
    "#we can also plot the ROC curve based on each model\n",
    "#Predicting proba\n",
    "y_pred_prob = LR.predict_proba(X_test)[:,1]\n",
    "\n",
    "# Generate ROC curve values: fpr, tpr, thresholds\n",
    "fpr, tpr, thresholds = roc_curve(y_test, y_pred_prob)\n",
    "\n",
    "# Plot ROC curve\n",
    "plt.plot([0, 1], [0, 1], 'k--')\n",
    "plt.plot(fpr, tpr)\n",
    "plt.xlabel('False Positive Rate', color=\"r\")\n",
    "plt.ylabel('True Positive Rate', color=\"g\")\n",
    "plt.title('ROC Curve of Logistic Regression')\n",
    "plt.show()"
   ]
  },
  {
   "cell_type": "code",
   "execution_count": 29,
   "metadata": {},
   "outputs": [
    {
     "data": {
      "image/png": "[encoded data removed]",
      "text/plain": [
       "<Figure size 432x288 with 1 Axes>"
      ]
     },
     "metadata": {
      "needs_background": "light"
     },
     "output_type": "display_data"
    }
   ],
   "source": [
    "#we can also plot the ROC curve based on each model\n",
    "#Predicting proba\n",
    "y_pred_prob = RF.predict_proba(X_test)[:,1]\n",
    "\n",
    "# Generate ROC curve values: fpr, tpr, thresholds\n",
    "fpr, tpr, thresholds = roc_curve(y_test, y_pred_prob)\n",
    "\n",
    "# Plot ROC curve\n",
    "plt.plot([0, 1], [0, 1], 'k--')\n",
    "plt.plot(fpr, tpr)\n",
    "plt.xlabel('False Positive Rate', color=\"r\")\n",
    "plt.ylabel('True Positive Rate', color=\"g\")\n",
    "plt.title('ROC Curve of Random Forest')\n",
    "plt.show()"
   ]
  },
  {
   "cell_type": "code",
   "execution_count": 30,
   "metadata": {},
   "outputs": [
    {
     "data": {
      "image/png": "[encoded data removed]",
      "text/plain": [
       "<Figure size 432x288 with 1 Axes>"
      ]
     },
     "metadata": {
      "needs_background": "light"
     },
     "output_type": "display_data"
    }
   ],
   "source": [
    "#we can also plot the ROC curve based on each model\n",
    "#Predicting proba\n",
    "y_pred_prob = KNN.predict_proba(X_test)[:,1]\n",
    "\n",
    "# Generate ROC curve values: fpr, tpr, thresholds\n",
    "fpr, tpr, thresholds = roc_curve(y_test, y_pred_prob)\n",
    "\n",
    "# Plot ROC curve\n",
    "plt.plot([0, 1], [0, 1], 'k--')\n",
    "plt.plot(fpr, tpr)\n",
    "plt.xlabel('False Positive Rate', color=\"r\")\n",
    "plt.ylabel('True Positive Rate', color=\"g\")\n",
    "plt.title('ROC Curve of KNN')\n",
    "plt.show()"
   ]
  },
  {
   "cell_type": "code",
   "execution_count": null,
   "metadata": {},
   "outputs": [],
   "source": []
  }
 ],
 "metadata": {
  "kernelspec": {
   "display_name": "myenv",
   "language": "python",
   "name": "myenv"
  },
  "language_info": {
   "codemirror_mode": {
    "name": "ipython",
    "version": 3
   },
   "file_extension": ".py",
   "mimetype": "text/x-python",
   "name": "python",
   "nbconvert_exporter": "python",
   "pygments_lexer": "ipython3",
   "version": "3.7.7"
  }
 },
 "nbformat": 4,
 "nbformat_minor": 4
}
